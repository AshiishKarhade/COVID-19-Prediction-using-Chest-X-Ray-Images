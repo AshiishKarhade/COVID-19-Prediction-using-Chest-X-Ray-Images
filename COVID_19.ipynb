{
  "nbformat": 4,
  "nbformat_minor": 0,
  "metadata": {
    "colab": {
      "name": "COVID-19.ipynb",
      "provenance": []
    },
    "kernelspec": {
      "name": "python3",
      "display_name": "Python 3"
    }
  },
  "cells": [
    {
      "cell_type": "code",
      "metadata": {
        "colab": {
          "base_uri": "https://localhost:8080/"
        },
        "id": "_r3gJszUHkpr",
        "outputId": "e2dc5234-6a7a-460a-c90a-ed0c63f840ad"
      },
      "source": [
        "!pip install torch\n",
        "!pip install keras"
      ],
      "execution_count": 1,
      "outputs": [
        {
          "output_type": "stream",
          "text": [
            "Requirement already satisfied: torch in /usr/local/lib/python3.7/dist-packages (1.7.1+cu101)\n",
            "Requirement already satisfied: typing-extensions in /usr/local/lib/python3.7/dist-packages (from torch) (3.7.4.3)\n",
            "Requirement already satisfied: numpy in /usr/local/lib/python3.7/dist-packages (from torch) (1.19.5)\n",
            "Requirement already satisfied: keras in /usr/local/lib/python3.7/dist-packages (2.4.3)\n",
            "Requirement already satisfied: numpy>=1.9.1 in /usr/local/lib/python3.7/dist-packages (from keras) (1.19.5)\n",
            "Requirement already satisfied: h5py in /usr/local/lib/python3.7/dist-packages (from keras) (2.10.0)\n",
            "Requirement already satisfied: pyyaml in /usr/local/lib/python3.7/dist-packages (from keras) (3.13)\n",
            "Requirement already satisfied: scipy>=0.14 in /usr/local/lib/python3.7/dist-packages (from keras) (1.4.1)\n",
            "Requirement already satisfied: six in /usr/local/lib/python3.7/dist-packages (from h5py->keras) (1.15.0)\n"
          ],
          "name": "stdout"
        }
      ]
    },
    {
      "cell_type": "code",
      "metadata": {
        "id": "MwpZJIwqc3KX"
      },
      "source": [
        "import keras\n",
        "from keras import layers\n",
        "from keras.preprocessing import image\n",
        "from keras.layers import Dense, GlobalAveragePooling2D\n",
        "from keras.callbacks import CSVLogger\n",
        "from keras.utils.np_utils import to_categorical\n",
        "from keras.models import Sequential\n",
        "import numpy as np\n",
        "import matplotlib.pyplot as plt\n",
        "import seaborn as sns\n",
        "from tensorflow.keras.preprocessing.image import ImageDataGenerator\n",
        "from tensorflow.keras.layers import AveragePooling2D\n",
        "from tensorflow.keras.layers import Dropout\n",
        "from tensorflow.keras.layers import Flatten\n",
        "from tensorflow.keras.layers import Dense\n",
        "from tensorflow.keras.layers import Input\n",
        "from tensorflow.keras.models import Model\n",
        "from tensorflow.keras.optimizers import Adam\n",
        "from keras.applications.resnet import ResNet101\n",
        "from keras.layers.convolutional import Conv2D, MaxPooling2D"
      ],
      "execution_count": 96,
      "outputs": []
    },
    {
      "cell_type": "code",
      "metadata": {
        "id": "UqsNlHX7iels"
      },
      "source": [
        "INIT_LR = 1e-3\n",
        "EPOCHS = 25\n",
        "BS = 8"
      ],
      "execution_count": 34,
      "outputs": []
    },
    {
      "cell_type": "code",
      "metadata": {
        "id": "CczD2idvkStd"
      },
      "source": [
        "datagen = ImageDataGenerator(rescale = 1./255,\n",
        "    shear_range = 0.2,\n",
        "    zoom_range = 0.2,\n",
        "    horizontal_flip = True)"
      ],
      "execution_count": 80,
      "outputs": []
    },
    {
      "cell_type": "code",
      "metadata": {
        "colab": {
          "base_uri": "https://localhost:8080/"
        },
        "id": "kF6KOfFYkUhy",
        "outputId": "650b0ace-7cb0-45a8-a521-a2c0b751896d"
      },
      "source": [
        "train_data = datagen.flow_from_directory(\n",
        "    directory = '/content/train',\n",
        "    target_size = (224,224),\n",
        "    class_mode='binary',\n",
        "    shuffle=True\n",
        ")"
      ],
      "execution_count": 104,
      "outputs": [
        {
          "output_type": "stream",
          "text": [
            "Found 80 images belonging to 2 classes.\n"
          ],
          "name": "stdout"
        }
      ]
    },
    {
      "cell_type": "code",
      "metadata": {
        "colab": {
          "base_uri": "https://localhost:8080/"
        },
        "id": "41pQmWhCklHF",
        "outputId": "76f18674-be95-4388-e117-cb4b4b16b448"
      },
      "source": [
        "val_data = datagen.flow_from_directory(\n",
        "    directory = '/content/test',\n",
        "    target_size = (224,224),\n",
        "    class_mode='binary',\n",
        "    shuffle=True\n",
        ")"
      ],
      "execution_count": 105,
      "outputs": [
        {
          "output_type": "stream",
          "text": [
            "Found 20 images belonging to 2 classes.\n"
          ],
          "name": "stdout"
        }
      ]
    },
    {
      "cell_type": "code",
      "metadata": {
        "colab": {
          "base_uri": "https://localhost:8080/"
        },
        "id": "zuRNxSciljXS",
        "outputId": "76c29537-8d70-49c6-ab5a-c27ef15b5a67"
      },
      "source": [
        "val_data.class_indices"
      ],
      "execution_count": 106,
      "outputs": [
        {
          "output_type": "execute_result",
          "data": {
            "text/plain": [
              "{'covid': 0, 'normal': 1}"
            ]
          },
          "metadata": {
            "tags": []
          },
          "execution_count": 106
        }
      ]
    },
    {
      "cell_type": "code",
      "metadata": {
        "id": "G_UoXv2ercwL"
      },
      "source": [
        "#!rm -rf `find -type d -name .ipynb_checkpoints`"
      ],
      "execution_count": 89,
      "outputs": []
    },
    {
      "cell_type": "code",
      "metadata": {
        "id": "GLnvkecprm47"
      },
      "source": [
        "model = Sequential([\n",
        "                    # BLOCK 1\n",
        "                    Conv2D(32, kernel_size=(3,3), activation='relu', input_shape = (224, 224, 3)),\n",
        "                    Conv2D(64, kernel_size=(3,3), activation='relu'),\n",
        "                    MaxPooling2D(pool_size=(2,2)),\n",
        "                    Dropout(0.25),\n",
        "                    # BLOCK 2\n",
        "                    Conv2D(128, kernel_size=(3,3), activation='relu'),\n",
        "                    MaxPooling2D(pool_size=(2,2)),\n",
        "                    Dropout(0.25),\n",
        "                    # BLOCK 3\n",
        "                    Conv2D(128, kernel_size=(3,3), activation='relu'),\n",
        "                    MaxPooling2D(pool_size=(2,2)),\n",
        "                    Dropout(0.25),\n",
        "                    # BLOCK 4\n",
        "                    Conv2D(264, kernel_size=(3,3), activation='relu'),\n",
        "                    MaxPooling2D(pool_size=(2,2)),\n",
        "                    Dropout(0.25),\n",
        "                    # block 5\n",
        "                    Flatten(),\n",
        "                    Dense(64, activation='relu'),\n",
        "                    Dropout(0.5),\n",
        "                    Dense(1, activation='sigmoid')\n",
        "])"
      ],
      "execution_count": 107,
      "outputs": []
    },
    {
      "cell_type": "code",
      "metadata": {
        "colab": {
          "base_uri": "https://localhost:8080/"
        },
        "id": "aaRMHp6nrvVO",
        "outputId": "2779d52f-67e3-483b-bd54-720eca2de3cc"
      },
      "source": [
        "model.compile(loss='binary_crossentropy',\n",
        "              optimizer='adam',\n",
        "              metrics=['accuracy'])\n",
        "\n",
        "model.summary()"
      ],
      "execution_count": 108,
      "outputs": [
        {
          "output_type": "stream",
          "text": [
            "Model: \"sequential_1\"\n",
            "_________________________________________________________________\n",
            "Layer (type)                 Output Shape              Param #   \n",
            "=================================================================\n",
            "conv2d_195 (Conv2D)          (None, 222, 222, 32)      896       \n",
            "_________________________________________________________________\n",
            "conv2d_196 (Conv2D)          (None, 220, 220, 64)      18496     \n",
            "_________________________________________________________________\n",
            "max_pooling2d_12 (MaxPooling (None, 110, 110, 64)      0         \n",
            "_________________________________________________________________\n",
            "dropout_12 (Dropout)         (None, 110, 110, 64)      0         \n",
            "_________________________________________________________________\n",
            "conv2d_197 (Conv2D)          (None, 108, 108, 128)     73856     \n",
            "_________________________________________________________________\n",
            "max_pooling2d_13 (MaxPooling (None, 54, 54, 128)       0         \n",
            "_________________________________________________________________\n",
            "dropout_13 (Dropout)         (None, 54, 54, 128)       0         \n",
            "_________________________________________________________________\n",
            "conv2d_198 (Conv2D)          (None, 52, 52, 128)       147584    \n",
            "_________________________________________________________________\n",
            "max_pooling2d_14 (MaxPooling (None, 26, 26, 128)       0         \n",
            "_________________________________________________________________\n",
            "dropout_14 (Dropout)         (None, 26, 26, 128)       0         \n",
            "_________________________________________________________________\n",
            "conv2d_199 (Conv2D)          (None, 24, 24, 264)       304392    \n",
            "_________________________________________________________________\n",
            "max_pooling2d_15 (MaxPooling (None, 12, 12, 264)       0         \n",
            "_________________________________________________________________\n",
            "dropout_15 (Dropout)         (None, 12, 12, 264)       0         \n",
            "_________________________________________________________________\n",
            "flatten_8 (Flatten)          (None, 38016)             0         \n",
            "_________________________________________________________________\n",
            "dense_16 (Dense)             (None, 64)                2433088   \n",
            "_________________________________________________________________\n",
            "dropout_16 (Dropout)         (None, 64)                0         \n",
            "_________________________________________________________________\n",
            "dense_17 (Dense)             (None, 1)                 65        \n",
            "=================================================================\n",
            "Total params: 2,978,377\n",
            "Trainable params: 2,978,377\n",
            "Non-trainable params: 0\n",
            "_________________________________________________________________\n"
          ],
          "name": "stdout"
        }
      ]
    },
    {
      "cell_type": "code",
      "metadata": {
        "colab": {
          "base_uri": "https://localhost:8080/"
        },
        "id": "WhZqnT5GsOd6",
        "outputId": "0d6fd365-f9cd-49c6-ae4c-2dc19e424a25"
      },
      "source": [
        "history = model.fit(\n",
        "    train_data,\n",
        "    epochs = 5\n",
        ")"
      ],
      "execution_count": 114,
      "outputs": [
        {
          "output_type": "stream",
          "text": [
            "Epoch 1/5\n",
            " 3/10 [========>.....................] - ETA: 58s - loss: 0.2968 - accuracy: 0.9375 WARNING:tensorflow:Your input ran out of data; interrupting training. Make sure that your dataset or generator can generate at least `steps_per_epoch * epochs` batches (in this case, 50 batches). You may need to use the repeat() function when building your dataset.\n",
            "10/10 [==============================] - 29s 2s/step - loss: 0.2968 - accuracy: 0.9375\n"
          ],
          "name": "stdout"
        }
      ]
    },
    {
      "cell_type": "code",
      "metadata": {
        "id": "wPR0PCC8sQfT"
      },
      "source": [
        "model.save('model.h5')"
      ],
      "execution_count": 115,
      "outputs": []
    },
    {
      "cell_type": "code",
      "metadata": {
        "id": "G7ryocMl96xD"
      },
      "source": [
        "from keras.models import load_model"
      ],
      "execution_count": 117,
      "outputs": []
    },
    {
      "cell_type": "code",
      "metadata": {
        "id": "jhM97-tn-AML"
      },
      "source": [
        "model = load_model('model.h5')"
      ],
      "execution_count": 118,
      "outputs": []
    },
    {
      "cell_type": "code",
      "metadata": {
        "colab": {
          "base_uri": "https://localhost:8080/"
        },
        "id": "yBICTq7W-FBK",
        "outputId": "34c929a6-11ce-4c13-ebf8-2c305767e2db"
      },
      "source": [
        "model.summary()"
      ],
      "execution_count": 119,
      "outputs": [
        {
          "output_type": "stream",
          "text": [
            "Model: \"sequential_1\"\n",
            "_________________________________________________________________\n",
            "Layer (type)                 Output Shape              Param #   \n",
            "=================================================================\n",
            "conv2d_195 (Conv2D)          (None, 222, 222, 32)      896       \n",
            "_________________________________________________________________\n",
            "conv2d_196 (Conv2D)          (None, 220, 220, 64)      18496     \n",
            "_________________________________________________________________\n",
            "max_pooling2d_12 (MaxPooling (None, 110, 110, 64)      0         \n",
            "_________________________________________________________________\n",
            "dropout_12 (Dropout)         (None, 110, 110, 64)      0         \n",
            "_________________________________________________________________\n",
            "conv2d_197 (Conv2D)          (None, 108, 108, 128)     73856     \n",
            "_________________________________________________________________\n",
            "max_pooling2d_13 (MaxPooling (None, 54, 54, 128)       0         \n",
            "_________________________________________________________________\n",
            "dropout_13 (Dropout)         (None, 54, 54, 128)       0         \n",
            "_________________________________________________________________\n",
            "conv2d_198 (Conv2D)          (None, 52, 52, 128)       147584    \n",
            "_________________________________________________________________\n",
            "max_pooling2d_14 (MaxPooling (None, 26, 26, 128)       0         \n",
            "_________________________________________________________________\n",
            "dropout_14 (Dropout)         (None, 26, 26, 128)       0         \n",
            "_________________________________________________________________\n",
            "conv2d_199 (Conv2D)          (None, 24, 24, 264)       304392    \n",
            "_________________________________________________________________\n",
            "max_pooling2d_15 (MaxPooling (None, 12, 12, 264)       0         \n",
            "_________________________________________________________________\n",
            "dropout_15 (Dropout)         (None, 12, 12, 264)       0         \n",
            "_________________________________________________________________\n",
            "flatten_8 (Flatten)          (None, 38016)             0         \n",
            "_________________________________________________________________\n",
            "dense_16 (Dense)             (None, 64)                2433088   \n",
            "_________________________________________________________________\n",
            "dropout_16 (Dropout)         (None, 64)                0         \n",
            "_________________________________________________________________\n",
            "dense_17 (Dense)             (None, 1)                 65        \n",
            "=================================================================\n",
            "Total params: 2,978,377\n",
            "Trainable params: 2,978,377\n",
            "Non-trainable params: 0\n",
            "_________________________________________________________________\n"
          ],
          "name": "stdout"
        }
      ]
    },
    {
      "cell_type": "code",
      "metadata": {
        "id": "0Zu-kIg6-GiQ"
      },
      "source": [
        "from PIL import Image"
      ],
      "execution_count": 121,
      "outputs": []
    },
    {
      "cell_type": "code",
      "metadata": {
        "colab": {
          "base_uri": "https://localhost:8080/",
          "height": 54
        },
        "id": "UITgC_Bt-TFR",
        "outputId": "54e5444c-25f6-4434-ba46-caed1f4e32a6"
      },
      "source": [
        "def predict(image_loc):\n",
        "    sub = Image.open(image_loc)\n",
        "    sub = sub.resize((224, 224))\n",
        "    sub = np.array(sub)\n",
        "    print(sub.shape)\n",
        "    #sub = sub.reshape(-1, 224, 224, 3)\n",
        "    sub = np.expand_dims(sub, axis=0)\n",
        "    preds = model.predict(sub)\n",
        "    #print(preds)\n",
        "    return \"normal\" if preds else \"covid\" \n",
        "predict('/content/test/covid/covid21.jpeg')"
      ],
      "execution_count": 151,
      "outputs": [
        {
          "output_type": "stream",
          "text": [
            "(224, 224, 3)\n"
          ],
          "name": "stdout"
        },
        {
          "output_type": "execute_result",
          "data": {
            "application/vnd.google.colaboratory.intrinsic+json": {
              "type": "string"
            },
            "text/plain": [
              "'covid'"
            ]
          },
          "metadata": {
            "tags": []
          },
          "execution_count": 151
        }
      ]
    },
    {
      "cell_type": "code",
      "metadata": {
        "colab": {
          "base_uri": "https://localhost:8080/"
        },
        "id": "MOXPkroiCVYw",
        "outputId": "9f3b2cd6-dd0c-4e65-fc48-611fd6d4238d"
      },
      "source": [
        "print(\"hello\")"
      ],
      "execution_count": 156,
      "outputs": [
        {
          "output_type": "stream",
          "text": [
            "hello\n"
          ],
          "name": "stdout"
        }
      ]
    },
    {
      "cell_type": "code",
      "metadata": {
        "id": "5gAC4Ua-Ocrc"
      },
      "source": [
        ""
      ],
      "execution_count": null,
      "outputs": []
    }
  ]
}